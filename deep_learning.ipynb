{
 "cells": [
  {
   "cell_type": "markdown",
   "metadata": {},
   "source": [
    "# Customer Behavior Prediction using Deep Learning"
   ]
  },
  {
   "cell_type": "markdown",
   "metadata": {},
   "source": [
    "Author: Tatsiana Mihai"
   ]
  },
  {
   "cell_type": "markdown",
   "metadata": {},
   "source": [
    "## Project description"
   ]
  },
  {
   "cell_type": "markdown",
   "metadata": {},
   "source": [
    "For this project I'll use public datasets with user behavior information available on Kaggle:\n",
    "- Model training: E-commerce behavior data from multi category store for November 2019\n",
    "https://www.kaggle.com/datasets/mkechinov/ecommerce-behavior-data-from-multi-category-store\n",
    "- Validating model robustness: E-commerce behavior data from multi category store for January 2020 https://www.kaggle.com/datasets/mkechinov/ecommerce-behavior-data-from-multi-category-store\n"
   ]
  },
  {
   "cell_type": "markdown",
   "metadata": {},
   "source": [
    "## Data exploration"
   ]
  },
  {
   "cell_type": "code",
   "execution_count": 4,
   "metadata": {},
   "outputs": [],
   "source": [
    "# import required packages\n",
    "\n",
    "import pandas as pd\n",
    "import numpy as np"
   ]
  },
  {
   "cell_type": "code",
   "execution_count": 5,
   "metadata": {
    "scrolled": true
   },
   "outputs": [
    {
     "data": {
      "text/plain": [
       "event_time       55967041\n",
       "event_type       55967041\n",
       "product_id       55967041\n",
       "category_id      55967041\n",
       "category_code    50922151\n",
       "brand            49426786\n",
       "price            55967041\n",
       "user_id          55967041\n",
       "user_session     55967022\n",
       "dtype: int64"
      ]
     },
     "execution_count": 5,
     "metadata": {},
     "output_type": "execute_result"
    }
   ],
   "source": [
    "# read csv file and get the number of rows\n",
    "\n",
    "df = pd.read_csv('data/2020-Jan.csv')\n",
    "df.count()"
   ]
  },
  {
   "cell_type": "code",
   "execution_count": null,
   "metadata": {},
   "outputs": [],
   "source": [
    "# show the first rows in the dataframe\n",
    "df.head()"
   ]
  },
  {
   "cell_type": "markdown",
   "metadata": {},
   "source": [
    "Let's check the quality of the data. Firts, I want to make sure there're no rows with null or invalid values that might affect model training. \n",
    "Let's check which columns have null values and how many."
   ]
  },
  {
   "cell_type": "code",
   "execution_count": null,
   "metadata": {},
   "outputs": [],
   "source": [
    "# show sum of null values for each column\n",
    "\n",
    "df.isnull().sum()"
   ]
  },
  {
   "cell_type": "markdown",
   "metadata": {},
   "source": [
    "As we can see, there're quite many missed values for `category_code` and `brand`, and also 10 missed values for the `user_session`. \n",
    "Now let's check if there're negative `price` values for as they're invalid and will affect the accuracy of the trained model."
   ]
  },
  {
   "cell_type": "code",
   "execution_count": null,
   "metadata": {},
   "outputs": [],
   "source": [
    "# show sum of negative values for the column `price`\n",
    "\n",
    "(df.price < 0).sum()"
   ]
  },
  {
   "cell_type": "markdown",
   "metadata": {},
   "source": [
    "As we can see, all prices are greater than `0` which makes the dataset is pretty clean. The only issue I'd like to address is the missed values. Also, I'd like to transform composite values in the `category_column` into multi-dimentional features to later try different combinations for model training."
   ]
  },
  {
   "cell_type": "markdown",
   "metadata": {},
   "source": [
    "## Data preprocessing"
   ]
  },
  {
   "cell_type": "markdown",
   "metadata": {},
   "source": [
    "**Reduce dimensionality**  \n",
    "The dataset is large, however not all of the columns are signficant for model training. The `user_session` column can be dropped as the `user_id` colimn contains all necessary information without missed values. Therefore, I'll remove `user_id` from the dataset."
   ]
  },
  {
   "cell_type": "code",
   "execution_count": 3,
   "metadata": {},
   "outputs": [
    {
     "data": {
      "text/html": [
       "<div>\n",
       "<style scoped>\n",
       "    .dataframe tbody tr th:only-of-type {\n",
       "        vertical-align: middle;\n",
       "    }\n",
       "\n",
       "    .dataframe tbody tr th {\n",
       "        vertical-align: top;\n",
       "    }\n",
       "\n",
       "    .dataframe thead th {\n",
       "        text-align: right;\n",
       "    }\n",
       "</style>\n",
       "<table border=\"1\" class=\"dataframe\">\n",
       "  <thead>\n",
       "    <tr style=\"text-align: right;\">\n",
       "      <th></th>\n",
       "      <th>event_time</th>\n",
       "      <th>event_type</th>\n",
       "      <th>category_code</th>\n",
       "      <th>product_id</th>\n",
       "      <th>category_id</th>\n",
       "      <th>brand</th>\n",
       "      <th>price</th>\n",
       "      <th>user_id</th>\n",
       "    </tr>\n",
       "  </thead>\n",
       "  <tbody>\n",
       "    <tr>\n",
       "      <th>0</th>\n",
       "      <td>2020-01-01 00:00:00 UTC</td>\n",
       "      <td>view</td>\n",
       "      <td>construction.tools.light</td>\n",
       "      <td>1005073</td>\n",
       "      <td>2232732093077520756</td>\n",
       "      <td>samsung</td>\n",
       "      <td>1130.02</td>\n",
       "      <td>519698804</td>\n",
       "    </tr>\n",
       "    <tr>\n",
       "      <th>1</th>\n",
       "      <td>2020-01-01 00:00:01 UTC</td>\n",
       "      <td>view</td>\n",
       "      <td>construction.tools.light</td>\n",
       "      <td>1005192</td>\n",
       "      <td>2232732093077520756</td>\n",
       "      <td>meizu</td>\n",
       "      <td>205.67</td>\n",
       "      <td>527767423</td>\n",
       "    </tr>\n",
       "    <tr>\n",
       "      <th>2</th>\n",
       "      <td>2020-01-01 00:00:01 UTC</td>\n",
       "      <td>view</td>\n",
       "      <td>apparel.shirt</td>\n",
       "      <td>100063693</td>\n",
       "      <td>2053013552427434207</td>\n",
       "      <td>turtle</td>\n",
       "      <td>136.43</td>\n",
       "      <td>519046195</td>\n",
       "    </tr>\n",
       "    <tr>\n",
       "      <th>3</th>\n",
       "      <td>2020-01-01 00:00:01 UTC</td>\n",
       "      <td>view</td>\n",
       "      <td>apparel.shoes</td>\n",
       "      <td>5100816</td>\n",
       "      <td>2232732103831716449</td>\n",
       "      <td>xiaomi</td>\n",
       "      <td>29.95</td>\n",
       "      <td>518269232</td>\n",
       "    </tr>\n",
       "    <tr>\n",
       "      <th>4</th>\n",
       "      <td>2020-01-01 00:00:02 UTC</td>\n",
       "      <td>view</td>\n",
       "      <td>apparel.shoes.step_ins</td>\n",
       "      <td>100014325</td>\n",
       "      <td>2232732103294845523</td>\n",
       "      <td>intel</td>\n",
       "      <td>167.20</td>\n",
       "      <td>587748686</td>\n",
       "    </tr>\n",
       "  </tbody>\n",
       "</table>\n",
       "</div>"
      ],
      "text/plain": [
       "                event_time event_type             category_code  product_id  \\\n",
       "0  2020-01-01 00:00:00 UTC       view  construction.tools.light     1005073   \n",
       "1  2020-01-01 00:00:01 UTC       view  construction.tools.light     1005192   \n",
       "2  2020-01-01 00:00:01 UTC       view             apparel.shirt   100063693   \n",
       "3  2020-01-01 00:00:01 UTC       view             apparel.shoes     5100816   \n",
       "4  2020-01-01 00:00:02 UTC       view    apparel.shoes.step_ins   100014325   \n",
       "\n",
       "           category_id    brand    price    user_id  \n",
       "0  2232732093077520756  samsung  1130.02  519698804  \n",
       "1  2232732093077520756    meizu   205.67  527767423  \n",
       "2  2053013552427434207   turtle   136.43  519046195  \n",
       "3  2232732103831716449   xiaomi    29.95  518269232  \n",
       "4  2232732103294845523    intel   167.20  587748686  "
      ]
     },
     "execution_count": 3,
     "metadata": {},
     "output_type": "execute_result"
    }
   ],
   "source": [
    "# keep only necessary columns\n",
    "required_cols = [\n",
    "    'event_time',\n",
    "    'event_type',\n",
    "    'category_code',\n",
    "    'product_id',\n",
    "    'category_id',\n",
    "    'brand',\n",
    "    'price',\n",
    "    'user_id'\n",
    "]\n",
    "\n",
    "df = df[required_cols]\n",
    "df.head()"
   ]
  },
  {
   "cell_type": "markdown",
   "metadata": {},
   "source": [
    "**Handling the missing values**\n",
    "\n",
    "As we can see from the data exploration, there're 9224078 missed values in the `brand` column. As there's still other information such as `event_type`, `user_id` and `price`, which can be useful for ML training, I'll fill it with the value `unknown`. \n",
    "Apart fron that, some of `category_code` values contain `NaN` instead of expected string values which causes issues with data transformation. I'll fill them with `unknown` values as well."
   ]
  },
  {
   "cell_type": "code",
   "execution_count": 4,
   "metadata": {
    "scrolled": true
   },
   "outputs": [
    {
     "data": {
      "text/html": [
       "<div>\n",
       "<style scoped>\n",
       "    .dataframe tbody tr th:only-of-type {\n",
       "        vertical-align: middle;\n",
       "    }\n",
       "\n",
       "    .dataframe tbody tr th {\n",
       "        vertical-align: top;\n",
       "    }\n",
       "\n",
       "    .dataframe thead th {\n",
       "        text-align: right;\n",
       "    }\n",
       "</style>\n",
       "<table border=\"1\" class=\"dataframe\">\n",
       "  <thead>\n",
       "    <tr style=\"text-align: right;\">\n",
       "      <th></th>\n",
       "      <th>event_time</th>\n",
       "      <th>event_type</th>\n",
       "      <th>category_code</th>\n",
       "      <th>product_id</th>\n",
       "      <th>category_id</th>\n",
       "      <th>brand</th>\n",
       "      <th>price</th>\n",
       "      <th>user_id</th>\n",
       "    </tr>\n",
       "  </thead>\n",
       "  <tbody>\n",
       "    <tr>\n",
       "      <th>0</th>\n",
       "      <td>2020-01-01 00:00:00 UTC</td>\n",
       "      <td>view</td>\n",
       "      <td>construction.tools.light</td>\n",
       "      <td>1005073</td>\n",
       "      <td>2232732093077520756</td>\n",
       "      <td>samsung</td>\n",
       "      <td>1130.02</td>\n",
       "      <td>519698804</td>\n",
       "    </tr>\n",
       "    <tr>\n",
       "      <th>1</th>\n",
       "      <td>2020-01-01 00:00:01 UTC</td>\n",
       "      <td>view</td>\n",
       "      <td>construction.tools.light</td>\n",
       "      <td>1005192</td>\n",
       "      <td>2232732093077520756</td>\n",
       "      <td>meizu</td>\n",
       "      <td>205.67</td>\n",
       "      <td>527767423</td>\n",
       "    </tr>\n",
       "    <tr>\n",
       "      <th>2</th>\n",
       "      <td>2020-01-01 00:00:01 UTC</td>\n",
       "      <td>view</td>\n",
       "      <td>apparel.shirt</td>\n",
       "      <td>100063693</td>\n",
       "      <td>2053013552427434207</td>\n",
       "      <td>turtle</td>\n",
       "      <td>136.43</td>\n",
       "      <td>519046195</td>\n",
       "    </tr>\n",
       "    <tr>\n",
       "      <th>3</th>\n",
       "      <td>2020-01-01 00:00:01 UTC</td>\n",
       "      <td>view</td>\n",
       "      <td>apparel.shoes</td>\n",
       "      <td>5100816</td>\n",
       "      <td>2232732103831716449</td>\n",
       "      <td>xiaomi</td>\n",
       "      <td>29.95</td>\n",
       "      <td>518269232</td>\n",
       "    </tr>\n",
       "    <tr>\n",
       "      <th>4</th>\n",
       "      <td>2020-01-01 00:00:02 UTC</td>\n",
       "      <td>view</td>\n",
       "      <td>apparel.shoes.step_ins</td>\n",
       "      <td>100014325</td>\n",
       "      <td>2232732103294845523</td>\n",
       "      <td>intel</td>\n",
       "      <td>167.20</td>\n",
       "      <td>587748686</td>\n",
       "    </tr>\n",
       "  </tbody>\n",
       "</table>\n",
       "</div>"
      ],
      "text/plain": [
       "                event_time event_type             category_code  product_id  \\\n",
       "0  2020-01-01 00:00:00 UTC       view  construction.tools.light     1005073   \n",
       "1  2020-01-01 00:00:01 UTC       view  construction.tools.light     1005192   \n",
       "2  2020-01-01 00:00:01 UTC       view             apparel.shirt   100063693   \n",
       "3  2020-01-01 00:00:01 UTC       view             apparel.shoes     5100816   \n",
       "4  2020-01-01 00:00:02 UTC       view    apparel.shoes.step_ins   100014325   \n",
       "\n",
       "           category_id    brand    price    user_id  \n",
       "0  2232732093077520756  samsung  1130.02  519698804  \n",
       "1  2232732093077520756    meizu   205.67  527767423  \n",
       "2  2053013552427434207   turtle   136.43  519046195  \n",
       "3  2232732103831716449   xiaomi    29.95  518269232  \n",
       "4  2232732103294845523    intel   167.20  587748686  "
      ]
     },
     "execution_count": 4,
     "metadata": {},
     "output_type": "execute_result"
    }
   ],
   "source": [
    "df['brand'] = df['brand'].fillna('unknown')\n",
    "df['category_code'] = df['category_code'].fillna('unknown')\n",
    "df.head()"
   ]
  },
  {
   "cell_type": "markdown",
   "metadata": {},
   "source": [
    "Let's see how many categories we can restore by mapping their known brands. To do that, I'll get a list of unique combinations of unknown category codes and known brands. "
   ]
  },
  {
   "cell_type": "code",
   "execution_count": 5,
   "metadata": {},
   "outputs": [
    {
     "data": {
      "text/plain": [
       "1868"
      ]
     },
     "execution_count": 5,
     "metadata": {},
     "output_type": "execute_result"
    }
   ],
   "source": [
    "# extract uniquecvalues from `category_code` and `brand` columns\n",
    "\n",
    "unknown_cats = df[(df.category_code == 'unknown') & (df.brand != 'unknown')]\n",
    "unknown_cats = pd.unique(unknown_cats['brand'])\n",
    "\n",
    "len(unknown_cats)"
   ]
  },
  {
   "cell_type": "markdown",
   "metadata": {},
   "source": [
    "Now let's explore if it's possible to re-use category that defined for another product with the same `brand` value. To do that I'll fetch all categories from `category_code` for the brands listed in the `unknown_cats`"
   ]
  },
  {
   "cell_type": "code",
   "execution_count": 6,
   "metadata": {},
   "outputs": [
    {
     "data": {
      "text/plain": [
       "<Axes: xlabel='category_code'>"
      ]
     },
     "execution_count": 6,
     "metadata": {},
     "output_type": "execute_result"
    },
    {
     "data": {
      "image/png": "[encoded data removed]",
      "text/plain": [
       "<Figure size 640x480 with 1 Axes>"
      ]
     },
     "metadata": {},
     "output_type": "display_data"
    }
   ],
   "source": [
    "# try to find categories for the brands\n",
    "\n",
    "known_brands = df[(df.category_code != 'unknown') & (df.brand.isin(unknown_cats))]\n",
    "known_brands = known_brands[['category_code', 'brand']]\n",
    "brands_possible_cats = known_brands.groupby(by=['brand']).nunique().reset_index()\n",
    "\n",
    "# group brands to see how many potential categories each brand has\n",
    "grouped_known_brands = brands_possible_cats.groupby(by=['category_code']).count()\n",
    "grouped_known_brands.plot(kind='bar')"
   ]
  },
  {
   "cell_type": "markdown",
   "metadata": {},
   "source": [
    "As the plot shows, a big chunk of brands has just one possible category. Let's explore some of them"
   ]
  },
  {
   "cell_type": "code",
   "execution_count": 7,
   "metadata": {},
   "outputs": [
    {
     "data": {
      "text/html": [
       "<div>\n",
       "<style scoped>\n",
       "    .dataframe tbody tr th:only-of-type {\n",
       "        vertical-align: middle;\n",
       "    }\n",
       "\n",
       "    .dataframe tbody tr th {\n",
       "        vertical-align: top;\n",
       "    }\n",
       "\n",
       "    .dataframe thead th {\n",
       "        text-align: right;\n",
       "    }\n",
       "</style>\n",
       "<table border=\"1\" class=\"dataframe\">\n",
       "  <thead>\n",
       "    <tr style=\"text-align: right;\">\n",
       "      <th></th>\n",
       "      <th>category_code</th>\n",
       "      <th>brand</th>\n",
       "    </tr>\n",
       "  </thead>\n",
       "  <tbody>\n",
       "    <tr>\n",
       "      <th>41838</th>\n",
       "      <td>sport.trainer</td>\n",
       "      <td>jiaxingharleybabycar</td>\n",
       "    </tr>\n",
       "    <tr>\n",
       "      <th>41843</th>\n",
       "      <td>furniture.living_room.sofa</td>\n",
       "      <td>rals</td>\n",
       "    </tr>\n",
       "    <tr>\n",
       "      <th>41947</th>\n",
       "      <td>sport.trainer</td>\n",
       "      <td>jiaxingharleybabycar</td>\n",
       "    </tr>\n",
       "    <tr>\n",
       "      <th>42079</th>\n",
       "      <td>sport.trainer</td>\n",
       "      <td>jiaxingharleybabycar</td>\n",
       "    </tr>\n",
       "    <tr>\n",
       "      <th>42084</th>\n",
       "      <td>sport.trainer</td>\n",
       "      <td>jiaxingharleybabycar</td>\n",
       "    </tr>\n",
       "    <tr>\n",
       "      <th>42168</th>\n",
       "      <td>sport.trainer</td>\n",
       "      <td>jiaxingharleybabycar</td>\n",
       "    </tr>\n",
       "    <tr>\n",
       "      <th>42180</th>\n",
       "      <td>furniture.living_room.sofa</td>\n",
       "      <td>rals</td>\n",
       "    </tr>\n",
       "    <tr>\n",
       "      <th>42203</th>\n",
       "      <td>kids.toys</td>\n",
       "      <td>edufun</td>\n",
       "    </tr>\n",
       "    <tr>\n",
       "      <th>42519</th>\n",
       "      <td>furniture.living_room.sofa</td>\n",
       "      <td>rals</td>\n",
       "    </tr>\n",
       "    <tr>\n",
       "      <th>42826</th>\n",
       "      <td>furniture.living_room.sofa</td>\n",
       "      <td>rals</td>\n",
       "    </tr>\n",
       "  </tbody>\n",
       "</table>\n",
       "</div>"
      ],
      "text/plain": [
       "                    category_code                 brand\n",
       "41838               sport.trainer  jiaxingharleybabycar\n",
       "41843  furniture.living_room.sofa                  rals\n",
       "41947               sport.trainer  jiaxingharleybabycar\n",
       "42079               sport.trainer  jiaxingharleybabycar\n",
       "42084               sport.trainer  jiaxingharleybabycar\n",
       "42168               sport.trainer  jiaxingharleybabycar\n",
       "42180  furniture.living_room.sofa                  rals\n",
       "42203                   kids.toys                edufun\n",
       "42519  furniture.living_room.sofa                  rals\n",
       "42826  furniture.living_room.sofa                  rals"
      ]
     },
     "execution_count": 7,
     "metadata": {},
     "output_type": "execute_result"
    }
   ],
   "source": [
    "brands_with_single_cat = brands_possible_cats[\\\n",
    "        brands_possible_cats.category_code == 1].brand\n",
    "\n",
    "known_brands[known_brands.brand.isin(brands_with_single_cat)][210:220]"
   ]
  },
  {
   "cell_type": "code",
   "execution_count": null,
   "metadata": {
    "scrolled": true
   },
   "outputs": [],
   "source": [
    "brands_with_multi_cat = brands_possible_cats[\\\n",
    "        brands_possible_cats.category_code > 25].brand\n",
    "\n",
    "known_brands[known_brands.brand.isin(brands_with_multi_cat)].head()"
   ]
  },
  {
   "cell_type": "code",
   "execution_count": null,
   "metadata": {
    "scrolled": true
   },
   "outputs": [],
   "source": [
    "known_brands[known_brands.brand == 'xiaomi'].head(20)"
   ]
  },
  {
   "cell_type": "markdown",
   "metadata": {},
   "source": [
    "At this moment it's obviout that only the first level category makes sence to be copied and added to the rows with missed values. If I add second or third category level I might affect the quality of the data."
   ]
  },
  {
   "cell_type": "markdown",
   "metadata": {},
   "source": [
    "**Data transformation**  \n",
    "First, I want to transform values from `category_code` into multi-column data `cat_1`, `cat_2`, etc.\n",
    "To make it I need to know the length of the longest chain in the `category_code` column."
   ]
  },
  {
   "cell_type": "code",
   "execution_count": null,
   "metadata": {},
   "outputs": [],
   "source": [
    "# calculate the max number of categories\n",
    "\n",
    "max(df.category_code.transform(lambda x: x.str.split('.').transform(lambda y: len(y))))"
   ]
  },
  {
   "cell_type": "markdown",
   "metadata": {},
   "source": [
    "**Imputation**\n",
    "The maximum length of nested categories is `4`. Now it's possible to create new columns to store each category separately. As only the first layer of categories is to be filled for unknown categories, the other empty values can be filled with `unknown`.  "
   ]
  },
  {
   "cell_type": "code",
   "execution_count": 8,
   "metadata": {},
   "outputs": [
    {
     "data": {
      "text/html": [
       "<div>\n",
       "<style scoped>\n",
       "    .dataframe tbody tr th:only-of-type {\n",
       "        vertical-align: middle;\n",
       "    }\n",
       "\n",
       "    .dataframe tbody tr th {\n",
       "        vertical-align: top;\n",
       "    }\n",
       "\n",
       "    .dataframe thead th {\n",
       "        text-align: right;\n",
       "    }\n",
       "</style>\n",
       "<table border=\"1\" class=\"dataframe\">\n",
       "  <thead>\n",
       "    <tr style=\"text-align: right;\">\n",
       "      <th></th>\n",
       "      <th>event_time</th>\n",
       "      <th>event_type</th>\n",
       "      <th>category_code</th>\n",
       "      <th>product_id</th>\n",
       "      <th>category_id</th>\n",
       "      <th>brand</th>\n",
       "      <th>price</th>\n",
       "      <th>user_id</th>\n",
       "      <th>cat_1</th>\n",
       "      <th>cat_2</th>\n",
       "      <th>cat_3</th>\n",
       "      <th>cat_4</th>\n",
       "    </tr>\n",
       "  </thead>\n",
       "  <tbody>\n",
       "    <tr>\n",
       "      <th>0</th>\n",
       "      <td>2020-01-01 00:00:00 UTC</td>\n",
       "      <td>view</td>\n",
       "      <td>construction.tools.light</td>\n",
       "      <td>1005073</td>\n",
       "      <td>2232732093077520756</td>\n",
       "      <td>samsung</td>\n",
       "      <td>1130.02</td>\n",
       "      <td>519698804</td>\n",
       "      <td>construction</td>\n",
       "      <td>tools</td>\n",
       "      <td>light</td>\n",
       "      <td>None</td>\n",
       "    </tr>\n",
       "    <tr>\n",
       "      <th>1</th>\n",
       "      <td>2020-01-01 00:00:01 UTC</td>\n",
       "      <td>view</td>\n",
       "      <td>construction.tools.light</td>\n",
       "      <td>1005192</td>\n",
       "      <td>2232732093077520756</td>\n",
       "      <td>meizu</td>\n",
       "      <td>205.67</td>\n",
       "      <td>527767423</td>\n",
       "      <td>construction</td>\n",
       "      <td>tools</td>\n",
       "      <td>light</td>\n",
       "      <td>None</td>\n",
       "    </tr>\n",
       "    <tr>\n",
       "      <th>2</th>\n",
       "      <td>2020-01-01 00:00:01 UTC</td>\n",
       "      <td>view</td>\n",
       "      <td>apparel.shirt</td>\n",
       "      <td>100063693</td>\n",
       "      <td>2053013552427434207</td>\n",
       "      <td>turtle</td>\n",
       "      <td>136.43</td>\n",
       "      <td>519046195</td>\n",
       "      <td>apparel</td>\n",
       "      <td>shirt</td>\n",
       "      <td>None</td>\n",
       "      <td>None</td>\n",
       "    </tr>\n",
       "    <tr>\n",
       "      <th>3</th>\n",
       "      <td>2020-01-01 00:00:01 UTC</td>\n",
       "      <td>view</td>\n",
       "      <td>apparel.shoes</td>\n",
       "      <td>5100816</td>\n",
       "      <td>2232732103831716449</td>\n",
       "      <td>xiaomi</td>\n",
       "      <td>29.95</td>\n",
       "      <td>518269232</td>\n",
       "      <td>apparel</td>\n",
       "      <td>shoes</td>\n",
       "      <td>None</td>\n",
       "      <td>None</td>\n",
       "    </tr>\n",
       "    <tr>\n",
       "      <th>4</th>\n",
       "      <td>2020-01-01 00:00:02 UTC</td>\n",
       "      <td>view</td>\n",
       "      <td>apparel.shoes.step_ins</td>\n",
       "      <td>100014325</td>\n",
       "      <td>2232732103294845523</td>\n",
       "      <td>intel</td>\n",
       "      <td>167.20</td>\n",
       "      <td>587748686</td>\n",
       "      <td>apparel</td>\n",
       "      <td>shoes</td>\n",
       "      <td>step_ins</td>\n",
       "      <td>None</td>\n",
       "    </tr>\n",
       "  </tbody>\n",
       "</table>\n",
       "</div>"
      ],
      "text/plain": [
       "                event_time event_type             category_code  product_id  \\\n",
       "0  2020-01-01 00:00:00 UTC       view  construction.tools.light     1005073   \n",
       "1  2020-01-01 00:00:01 UTC       view  construction.tools.light     1005192   \n",
       "2  2020-01-01 00:00:01 UTC       view             apparel.shirt   100063693   \n",
       "3  2020-01-01 00:00:01 UTC       view             apparel.shoes     5100816   \n",
       "4  2020-01-01 00:00:02 UTC       view    apparel.shoes.step_ins   100014325   \n",
       "\n",
       "           category_id    brand    price    user_id         cat_1  cat_2  \\\n",
       "0  2232732093077520756  samsung  1130.02  519698804  construction  tools   \n",
       "1  2232732093077520756    meizu   205.67  527767423  construction  tools   \n",
       "2  2053013552427434207   turtle   136.43  519046195       apparel  shirt   \n",
       "3  2232732103831716449   xiaomi    29.95  518269232       apparel  shoes   \n",
       "4  2232732103294845523    intel   167.20  587748686       apparel  shoes   \n",
       "\n",
       "      cat_3 cat_4  \n",
       "0     light  None  \n",
       "1     light  None  \n",
       "2      None  None  \n",
       "3      None  None  \n",
       "4  step_ins  None  "
      ]
     },
     "execution_count": 8,
     "metadata": {},
     "output_type": "execute_result"
    }
   ],
   "source": [
    "# split `category_code` column into new columns\n",
    "df[['cat_1', 'cat_2', 'cat_3', 'cat_4']] = df.category_code.str.split(\".\", expand = True)\n",
    "df.head()"
   ]
  },
  {
   "cell_type": "markdown",
   "metadata": {},
   "source": [
    "As the values from the `category_code` column are transferred to another columns, it can be finally removed."
   ]
  },
  {
   "cell_type": "code",
   "execution_count": 9,
   "metadata": {},
   "outputs": [
    {
     "data": {
      "text/html": [
       "<div>\n",
       "<style scoped>\n",
       "    .dataframe tbody tr th:only-of-type {\n",
       "        vertical-align: middle;\n",
       "    }\n",
       "\n",
       "    .dataframe tbody tr th {\n",
       "        vertical-align: top;\n",
       "    }\n",
       "\n",
       "    .dataframe thead th {\n",
       "        text-align: right;\n",
       "    }\n",
       "</style>\n",
       "<table border=\"1\" class=\"dataframe\">\n",
       "  <thead>\n",
       "    <tr style=\"text-align: right;\">\n",
       "      <th></th>\n",
       "      <th>event_time</th>\n",
       "      <th>event_type</th>\n",
       "      <th>product_id</th>\n",
       "      <th>category_id</th>\n",
       "      <th>cat_1</th>\n",
       "      <th>cat_2</th>\n",
       "      <th>cat_3</th>\n",
       "      <th>cat_4</th>\n",
       "      <th>brand</th>\n",
       "      <th>price</th>\n",
       "      <th>user_id</th>\n",
       "    </tr>\n",
       "  </thead>\n",
       "  <tbody>\n",
       "    <tr>\n",
       "      <th>0</th>\n",
       "      <td>2020-01-01 00:00:00 UTC</td>\n",
       "      <td>view</td>\n",
       "      <td>1005073</td>\n",
       "      <td>2232732093077520756</td>\n",
       "      <td>construction</td>\n",
       "      <td>tools</td>\n",
       "      <td>light</td>\n",
       "      <td>None</td>\n",
       "      <td>samsung</td>\n",
       "      <td>1130.02</td>\n",
       "      <td>519698804</td>\n",
       "    </tr>\n",
       "    <tr>\n",
       "      <th>1</th>\n",
       "      <td>2020-01-01 00:00:01 UTC</td>\n",
       "      <td>view</td>\n",
       "      <td>1005192</td>\n",
       "      <td>2232732093077520756</td>\n",
       "      <td>construction</td>\n",
       "      <td>tools</td>\n",
       "      <td>light</td>\n",
       "      <td>None</td>\n",
       "      <td>meizu</td>\n",
       "      <td>205.67</td>\n",
       "      <td>527767423</td>\n",
       "    </tr>\n",
       "    <tr>\n",
       "      <th>2</th>\n",
       "      <td>2020-01-01 00:00:01 UTC</td>\n",
       "      <td>view</td>\n",
       "      <td>100063693</td>\n",
       "      <td>2053013552427434207</td>\n",
       "      <td>apparel</td>\n",
       "      <td>shirt</td>\n",
       "      <td>None</td>\n",
       "      <td>None</td>\n",
       "      <td>turtle</td>\n",
       "      <td>136.43</td>\n",
       "      <td>519046195</td>\n",
       "    </tr>\n",
       "    <tr>\n",
       "      <th>3</th>\n",
       "      <td>2020-01-01 00:00:01 UTC</td>\n",
       "      <td>view</td>\n",
       "      <td>5100816</td>\n",
       "      <td>2232732103831716449</td>\n",
       "      <td>apparel</td>\n",
       "      <td>shoes</td>\n",
       "      <td>None</td>\n",
       "      <td>None</td>\n",
       "      <td>xiaomi</td>\n",
       "      <td>29.95</td>\n",
       "      <td>518269232</td>\n",
       "    </tr>\n",
       "    <tr>\n",
       "      <th>4</th>\n",
       "      <td>2020-01-01 00:00:02 UTC</td>\n",
       "      <td>view</td>\n",
       "      <td>100014325</td>\n",
       "      <td>2232732103294845523</td>\n",
       "      <td>apparel</td>\n",
       "      <td>shoes</td>\n",
       "      <td>step_ins</td>\n",
       "      <td>None</td>\n",
       "      <td>intel</td>\n",
       "      <td>167.20</td>\n",
       "      <td>587748686</td>\n",
       "    </tr>\n",
       "  </tbody>\n",
       "</table>\n",
       "</div>"
      ],
      "text/plain": [
       "                event_time event_type  product_id          category_id  \\\n",
       "0  2020-01-01 00:00:00 UTC       view     1005073  2232732093077520756   \n",
       "1  2020-01-01 00:00:01 UTC       view     1005192  2232732093077520756   \n",
       "2  2020-01-01 00:00:01 UTC       view   100063693  2053013552427434207   \n",
       "3  2020-01-01 00:00:01 UTC       view     5100816  2232732103831716449   \n",
       "4  2020-01-01 00:00:02 UTC       view   100014325  2232732103294845523   \n",
       "\n",
       "          cat_1  cat_2     cat_3 cat_4    brand    price    user_id  \n",
       "0  construction  tools     light  None  samsung  1130.02  519698804  \n",
       "1  construction  tools     light  None    meizu   205.67  527767423  \n",
       "2       apparel  shirt      None  None   turtle   136.43  519046195  \n",
       "3       apparel  shoes      None  None   xiaomi    29.95  518269232  \n",
       "4       apparel  shoes  step_ins  None    intel   167.20  587748686  "
      ]
     },
     "execution_count": 9,
     "metadata": {},
     "output_type": "execute_result"
    }
   ],
   "source": [
    "# keep only necessary columns\n",
    "required_cols = [\n",
    "    'event_time',\n",
    "    'event_type',\n",
    "    'product_id',\n",
    "    'category_id',\n",
    "    'cat_1',\n",
    "    'cat_2',\n",
    "    'cat_3',\n",
    "    'cat_4',\n",
    "    'brand',\n",
    "    'price',\n",
    "    'user_id'\n",
    "]\n",
    "\n",
    "df = df[required_cols]\n",
    "df.head()"
   ]
  },
  {
   "cell_type": "markdown",
   "metadata": {},
   "source": [
    "Let's see how many new null varues have been created after changing the dimension of the data."
   ]
  },
  {
   "cell_type": "code",
   "execution_count": null,
   "metadata": {},
   "outputs": [],
   "source": [
    "# show sum of null values for each column\n",
    "\n",
    "df.isnull().sum()"
   ]
  },
  {
   "cell_type": "markdown",
   "metadata": {},
   "source": [
    "The `cat_1` doesn't have empty values as it's been pre-filled with `unknown`. For the others the % of filling is 99.9% for the `cat_2`, 72.1% for the `cat_3`, and 32.4% for the `cat_4`. Though the last column doesn't look promising I'll keep it for know to be able to use it in future training and see how it affects the model.\n",
    "Let's fill the `unknown` values in `cat_1` with the values from known brands. To make it easier I change `known_brands` in the same way I changed the dataset."
   ]
  },
  {
   "cell_type": "code",
   "execution_count": 10,
   "metadata": {
    "scrolled": true
   },
   "outputs": [
    {
     "data": {
      "text/html": [
       "<div>\n",
       "<style scoped>\n",
       "    .dataframe tbody tr th:only-of-type {\n",
       "        vertical-align: middle;\n",
       "    }\n",
       "\n",
       "    .dataframe tbody tr th {\n",
       "        vertical-align: top;\n",
       "    }\n",
       "\n",
       "    .dataframe thead th {\n",
       "        text-align: right;\n",
       "    }\n",
       "</style>\n",
       "<table border=\"1\" class=\"dataframe\">\n",
       "  <thead>\n",
       "    <tr style=\"text-align: right;\">\n",
       "      <th></th>\n",
       "      <th>brand</th>\n",
       "      <th>cat_1</th>\n",
       "    </tr>\n",
       "  </thead>\n",
       "  <tbody>\n",
       "    <tr>\n",
       "      <th>0</th>\n",
       "      <td>samsung</td>\n",
       "      <td>construction</td>\n",
       "    </tr>\n",
       "    <tr>\n",
       "      <th>3</th>\n",
       "      <td>xiaomi</td>\n",
       "      <td>apparel</td>\n",
       "    </tr>\n",
       "    <tr>\n",
       "      <th>7</th>\n",
       "      <td>sven</td>\n",
       "      <td>appliances</td>\n",
       "    </tr>\n",
       "    <tr>\n",
       "      <th>9</th>\n",
       "      <td>apple</td>\n",
       "      <td>construction</td>\n",
       "    </tr>\n",
       "    <tr>\n",
       "      <th>10</th>\n",
       "      <td>braun</td>\n",
       "      <td>appliances</td>\n",
       "    </tr>\n",
       "  </tbody>\n",
       "</table>\n",
       "</div>"
      ],
      "text/plain": [
       "      brand         cat_1\n",
       "0   samsung  construction\n",
       "3    xiaomi       apparel\n",
       "7      sven    appliances\n",
       "9     apple  construction\n",
       "10    braun    appliances"
      ]
     },
     "execution_count": 10,
     "metadata": {},
     "output_type": "execute_result"
    }
   ],
   "source": [
    "# split `category_code` column into new columns\n",
    "known_brands[['cat_1', 'cat_2', 'cat_3', 'cat_4']] = known_brands.category_code.str.split(\".\", expand = True)\n",
    "known_brands = known_brands[['brand', 'cat_1']].drop_duplicates(subset=['brand'])\n",
    "known_brands.head()"
   ]
  },
  {
   "cell_type": "code",
   "execution_count": 11,
   "metadata": {},
   "outputs": [
    {
     "data": {
      "text/html": [
       "<div>\n",
       "<style scoped>\n",
       "    .dataframe tbody tr th:only-of-type {\n",
       "        vertical-align: middle;\n",
       "    }\n",
       "\n",
       "    .dataframe tbody tr th {\n",
       "        vertical-align: top;\n",
       "    }\n",
       "\n",
       "    .dataframe thead th {\n",
       "        text-align: right;\n",
       "    }\n",
       "</style>\n",
       "<table border=\"1\" class=\"dataframe\">\n",
       "  <thead>\n",
       "    <tr style=\"text-align: right;\">\n",
       "      <th></th>\n",
       "      <th>event_time</th>\n",
       "      <th>event_type</th>\n",
       "      <th>product_id</th>\n",
       "      <th>category_id</th>\n",
       "      <th>cat_1_x</th>\n",
       "      <th>cat_2</th>\n",
       "      <th>cat_3</th>\n",
       "      <th>cat_4</th>\n",
       "      <th>brand</th>\n",
       "      <th>price</th>\n",
       "      <th>user_id</th>\n",
       "      <th>cat_1_y</th>\n",
       "    </tr>\n",
       "  </thead>\n",
       "  <tbody>\n",
       "    <tr>\n",
       "      <th>0</th>\n",
       "      <td>2020-01-01 00:00:00 UTC</td>\n",
       "      <td>view</td>\n",
       "      <td>1005073</td>\n",
       "      <td>2232732093077520756</td>\n",
       "      <td>construction</td>\n",
       "      <td>tools</td>\n",
       "      <td>light</td>\n",
       "      <td>None</td>\n",
       "      <td>samsung</td>\n",
       "      <td>1130.02</td>\n",
       "      <td>519698804</td>\n",
       "      <td>construction</td>\n",
       "    </tr>\n",
       "    <tr>\n",
       "      <th>1</th>\n",
       "      <td>2020-01-01 00:00:01 UTC</td>\n",
       "      <td>view</td>\n",
       "      <td>1005192</td>\n",
       "      <td>2232732093077520756</td>\n",
       "      <td>construction</td>\n",
       "      <td>tools</td>\n",
       "      <td>light</td>\n",
       "      <td>None</td>\n",
       "      <td>meizu</td>\n",
       "      <td>205.67</td>\n",
       "      <td>527767423</td>\n",
       "      <td>NaN</td>\n",
       "    </tr>\n",
       "    <tr>\n",
       "      <th>2</th>\n",
       "      <td>2020-01-01 00:00:01 UTC</td>\n",
       "      <td>view</td>\n",
       "      <td>100063693</td>\n",
       "      <td>2053013552427434207</td>\n",
       "      <td>apparel</td>\n",
       "      <td>shirt</td>\n",
       "      <td>None</td>\n",
       "      <td>None</td>\n",
       "      <td>turtle</td>\n",
       "      <td>136.43</td>\n",
       "      <td>519046195</td>\n",
       "      <td>NaN</td>\n",
       "    </tr>\n",
       "    <tr>\n",
       "      <th>3</th>\n",
       "      <td>2020-01-01 00:00:01 UTC</td>\n",
       "      <td>view</td>\n",
       "      <td>5100816</td>\n",
       "      <td>2232732103831716449</td>\n",
       "      <td>apparel</td>\n",
       "      <td>shoes</td>\n",
       "      <td>None</td>\n",
       "      <td>None</td>\n",
       "      <td>xiaomi</td>\n",
       "      <td>29.95</td>\n",
       "      <td>518269232</td>\n",
       "      <td>apparel</td>\n",
       "    </tr>\n",
       "    <tr>\n",
       "      <th>4</th>\n",
       "      <td>2020-01-01 00:00:02 UTC</td>\n",
       "      <td>view</td>\n",
       "      <td>100014325</td>\n",
       "      <td>2232732103294845523</td>\n",
       "      <td>apparel</td>\n",
       "      <td>shoes</td>\n",
       "      <td>step_ins</td>\n",
       "      <td>None</td>\n",
       "      <td>intel</td>\n",
       "      <td>167.20</td>\n",
       "      <td>587748686</td>\n",
       "      <td>NaN</td>\n",
       "    </tr>\n",
       "  </tbody>\n",
       "</table>\n",
       "</div>"
      ],
      "text/plain": [
       "                event_time event_type  product_id          category_id  \\\n",
       "0  2020-01-01 00:00:00 UTC       view     1005073  2232732093077520756   \n",
       "1  2020-01-01 00:00:01 UTC       view     1005192  2232732093077520756   \n",
       "2  2020-01-01 00:00:01 UTC       view   100063693  2053013552427434207   \n",
       "3  2020-01-01 00:00:01 UTC       view     5100816  2232732103831716449   \n",
       "4  2020-01-01 00:00:02 UTC       view   100014325  2232732103294845523   \n",
       "\n",
       "        cat_1_x  cat_2     cat_3 cat_4    brand    price    user_id  \\\n",
       "0  construction  tools     light  None  samsung  1130.02  519698804   \n",
       "1  construction  tools     light  None    meizu   205.67  527767423   \n",
       "2       apparel  shirt      None  None   turtle   136.43  519046195   \n",
       "3       apparel  shoes      None  None   xiaomi    29.95  518269232   \n",
       "4       apparel  shoes  step_ins  None    intel   167.20  587748686   \n",
       "\n",
       "        cat_1_y  \n",
       "0  construction  \n",
       "1           NaN  \n",
       "2           NaN  \n",
       "3       apparel  \n",
       "4           NaN  "
      ]
     },
     "execution_count": 11,
     "metadata": {},
     "output_type": "execute_result"
    }
   ],
   "source": [
    "res = pd.merge(df, known_brands, on='brand', how='left')\n",
    "res.head()"
   ]
  },
  {
   "cell_type": "code",
   "execution_count": 12,
   "metadata": {},
   "outputs": [
    {
     "data": {
      "text/html": [
       "<div>\n",
       "<style scoped>\n",
       "    .dataframe tbody tr th:only-of-type {\n",
       "        vertical-align: middle;\n",
       "    }\n",
       "\n",
       "    .dataframe tbody tr th {\n",
       "        vertical-align: top;\n",
       "    }\n",
       "\n",
       "    .dataframe thead th {\n",
       "        text-align: right;\n",
       "    }\n",
       "</style>\n",
       "<table border=\"1\" class=\"dataframe\">\n",
       "  <thead>\n",
       "    <tr style=\"text-align: right;\">\n",
       "      <th></th>\n",
       "      <th>event_time</th>\n",
       "      <th>event_type</th>\n",
       "      <th>product_id</th>\n",
       "      <th>category_id</th>\n",
       "      <th>cat_1_x</th>\n",
       "      <th>cat_2</th>\n",
       "      <th>cat_3</th>\n",
       "      <th>cat_4</th>\n",
       "      <th>brand</th>\n",
       "      <th>price</th>\n",
       "      <th>user_id</th>\n",
       "      <th>cat_1_y</th>\n",
       "      <th>cat</th>\n",
       "    </tr>\n",
       "  </thead>\n",
       "  <tbody>\n",
       "    <tr>\n",
       "      <th>0</th>\n",
       "      <td>2020-01-01 00:00:00 UTC</td>\n",
       "      <td>view</td>\n",
       "      <td>1005073</td>\n",
       "      <td>2232732093077520756</td>\n",
       "      <td>construction</td>\n",
       "      <td>tools</td>\n",
       "      <td>light</td>\n",
       "      <td>None</td>\n",
       "      <td>samsung</td>\n",
       "      <td>1130.02</td>\n",
       "      <td>519698804</td>\n",
       "      <td>construction</td>\n",
       "      <td>construction</td>\n",
       "    </tr>\n",
       "    <tr>\n",
       "      <th>1</th>\n",
       "      <td>2020-01-01 00:00:01 UTC</td>\n",
       "      <td>view</td>\n",
       "      <td>1005192</td>\n",
       "      <td>2232732093077520756</td>\n",
       "      <td>construction</td>\n",
       "      <td>tools</td>\n",
       "      <td>light</td>\n",
       "      <td>None</td>\n",
       "      <td>meizu</td>\n",
       "      <td>205.67</td>\n",
       "      <td>527767423</td>\n",
       "      <td>NaN</td>\n",
       "      <td>construction</td>\n",
       "    </tr>\n",
       "    <tr>\n",
       "      <th>2</th>\n",
       "      <td>2020-01-01 00:00:01 UTC</td>\n",
       "      <td>view</td>\n",
       "      <td>100063693</td>\n",
       "      <td>2053013552427434207</td>\n",
       "      <td>apparel</td>\n",
       "      <td>shirt</td>\n",
       "      <td>None</td>\n",
       "      <td>None</td>\n",
       "      <td>turtle</td>\n",
       "      <td>136.43</td>\n",
       "      <td>519046195</td>\n",
       "      <td>NaN</td>\n",
       "      <td>apparel</td>\n",
       "    </tr>\n",
       "    <tr>\n",
       "      <th>3</th>\n",
       "      <td>2020-01-01 00:00:01 UTC</td>\n",
       "      <td>view</td>\n",
       "      <td>5100816</td>\n",
       "      <td>2232732103831716449</td>\n",
       "      <td>apparel</td>\n",
       "      <td>shoes</td>\n",
       "      <td>None</td>\n",
       "      <td>None</td>\n",
       "      <td>xiaomi</td>\n",
       "      <td>29.95</td>\n",
       "      <td>518269232</td>\n",
       "      <td>apparel</td>\n",
       "      <td>apparel</td>\n",
       "    </tr>\n",
       "    <tr>\n",
       "      <th>4</th>\n",
       "      <td>2020-01-01 00:00:02 UTC</td>\n",
       "      <td>view</td>\n",
       "      <td>100014325</td>\n",
       "      <td>2232732103294845523</td>\n",
       "      <td>apparel</td>\n",
       "      <td>shoes</td>\n",
       "      <td>step_ins</td>\n",
       "      <td>None</td>\n",
       "      <td>intel</td>\n",
       "      <td>167.20</td>\n",
       "      <td>587748686</td>\n",
       "      <td>NaN</td>\n",
       "      <td>apparel</td>\n",
       "    </tr>\n",
       "  </tbody>\n",
       "</table>\n",
       "</div>"
      ],
      "text/plain": [
       "                event_time event_type  product_id          category_id  \\\n",
       "0  2020-01-01 00:00:00 UTC       view     1005073  2232732093077520756   \n",
       "1  2020-01-01 00:00:01 UTC       view     1005192  2232732093077520756   \n",
       "2  2020-01-01 00:00:01 UTC       view   100063693  2053013552427434207   \n",
       "3  2020-01-01 00:00:01 UTC       view     5100816  2232732103831716449   \n",
       "4  2020-01-01 00:00:02 UTC       view   100014325  2232732103294845523   \n",
       "\n",
       "        cat_1_x  cat_2     cat_3 cat_4    brand    price    user_id  \\\n",
       "0  construction  tools     light  None  samsung  1130.02  519698804   \n",
       "1  construction  tools     light  None    meizu   205.67  527767423   \n",
       "2       apparel  shirt      None  None   turtle   136.43  519046195   \n",
       "3       apparel  shoes      None  None   xiaomi    29.95  518269232   \n",
       "4       apparel  shoes  step_ins  None    intel   167.20  587748686   \n",
       "\n",
       "        cat_1_y           cat  \n",
       "0  construction  construction  \n",
       "1           NaN  construction  \n",
       "2           NaN       apparel  \n",
       "3       apparel       apparel  \n",
       "4           NaN       apparel  "
      ]
     },
     "execution_count": 12,
     "metadata": {},
     "output_type": "execute_result"
    }
   ],
   "source": [
    "res['cat'] = np.where(res['cat_1_x'] == 'unknown', res.cat_1_y, res.cat_1_x)\n",
    "res.head()"
   ]
  },
  {
   "cell_type": "code",
   "execution_count": 13,
   "metadata": {
    "scrolled": true
   },
   "outputs": [
    {
     "data": {
      "text/html": [
       "<div>\n",
       "<style scoped>\n",
       "    .dataframe tbody tr th:only-of-type {\n",
       "        vertical-align: middle;\n",
       "    }\n",
       "\n",
       "    .dataframe tbody tr th {\n",
       "        vertical-align: top;\n",
       "    }\n",
       "\n",
       "    .dataframe thead th {\n",
       "        text-align: right;\n",
       "    }\n",
       "</style>\n",
       "<table border=\"1\" class=\"dataframe\">\n",
       "  <thead>\n",
       "    <tr style=\"text-align: right;\">\n",
       "      <th></th>\n",
       "      <th>event_time</th>\n",
       "      <th>event_type</th>\n",
       "      <th>product_id</th>\n",
       "      <th>category_id</th>\n",
       "      <th>cat</th>\n",
       "      <th>cat_2</th>\n",
       "      <th>cat_3</th>\n",
       "      <th>cat_4</th>\n",
       "      <th>brand</th>\n",
       "      <th>price</th>\n",
       "      <th>user_id</th>\n",
       "    </tr>\n",
       "  </thead>\n",
       "  <tbody>\n",
       "    <tr>\n",
       "      <th>0</th>\n",
       "      <td>2020-01-01 00:00:00 UTC</td>\n",
       "      <td>view</td>\n",
       "      <td>1005073</td>\n",
       "      <td>2232732093077520756</td>\n",
       "      <td>construction</td>\n",
       "      <td>tools</td>\n",
       "      <td>light</td>\n",
       "      <td>None</td>\n",
       "      <td>samsung</td>\n",
       "      <td>1130.02</td>\n",
       "      <td>519698804</td>\n",
       "    </tr>\n",
       "    <tr>\n",
       "      <th>1</th>\n",
       "      <td>2020-01-01 00:00:01 UTC</td>\n",
       "      <td>view</td>\n",
       "      <td>1005192</td>\n",
       "      <td>2232732093077520756</td>\n",
       "      <td>construction</td>\n",
       "      <td>tools</td>\n",
       "      <td>light</td>\n",
       "      <td>None</td>\n",
       "      <td>meizu</td>\n",
       "      <td>205.67</td>\n",
       "      <td>527767423</td>\n",
       "    </tr>\n",
       "    <tr>\n",
       "      <th>2</th>\n",
       "      <td>2020-01-01 00:00:01 UTC</td>\n",
       "      <td>view</td>\n",
       "      <td>100063693</td>\n",
       "      <td>2053013552427434207</td>\n",
       "      <td>apparel</td>\n",
       "      <td>shirt</td>\n",
       "      <td>None</td>\n",
       "      <td>None</td>\n",
       "      <td>turtle</td>\n",
       "      <td>136.43</td>\n",
       "      <td>519046195</td>\n",
       "    </tr>\n",
       "    <tr>\n",
       "      <th>3</th>\n",
       "      <td>2020-01-01 00:00:01 UTC</td>\n",
       "      <td>view</td>\n",
       "      <td>5100816</td>\n",
       "      <td>2232732103831716449</td>\n",
       "      <td>apparel</td>\n",
       "      <td>shoes</td>\n",
       "      <td>None</td>\n",
       "      <td>None</td>\n",
       "      <td>xiaomi</td>\n",
       "      <td>29.95</td>\n",
       "      <td>518269232</td>\n",
       "    </tr>\n",
       "    <tr>\n",
       "      <th>4</th>\n",
       "      <td>2020-01-01 00:00:02 UTC</td>\n",
       "      <td>view</td>\n",
       "      <td>100014325</td>\n",
       "      <td>2232732103294845523</td>\n",
       "      <td>apparel</td>\n",
       "      <td>shoes</td>\n",
       "      <td>step_ins</td>\n",
       "      <td>None</td>\n",
       "      <td>intel</td>\n",
       "      <td>167.20</td>\n",
       "      <td>587748686</td>\n",
       "    </tr>\n",
       "  </tbody>\n",
       "</table>\n",
       "</div>"
      ],
      "text/plain": [
       "                event_time event_type  product_id          category_id  \\\n",
       "0  2020-01-01 00:00:00 UTC       view     1005073  2232732093077520756   \n",
       "1  2020-01-01 00:00:01 UTC       view     1005192  2232732093077520756   \n",
       "2  2020-01-01 00:00:01 UTC       view   100063693  2053013552427434207   \n",
       "3  2020-01-01 00:00:01 UTC       view     5100816  2232732103831716449   \n",
       "4  2020-01-01 00:00:02 UTC       view   100014325  2232732103294845523   \n",
       "\n",
       "            cat  cat_2     cat_3 cat_4    brand    price    user_id  \n",
       "0  construction  tools     light  None  samsung  1130.02  519698804  \n",
       "1  construction  tools     light  None    meizu   205.67  527767423  \n",
       "2       apparel  shirt      None  None   turtle   136.43  519046195  \n",
       "3       apparel  shoes      None  None   xiaomi    29.95  518269232  \n",
       "4       apparel  shoes  step_ins  None    intel   167.20  587748686  "
      ]
     },
     "execution_count": 13,
     "metadata": {},
     "output_type": "execute_result"
    }
   ],
   "source": [
    "# keep only necessary columns\n",
    "required_cols = [\n",
    "    'event_time',\n",
    "    'event_type',\n",
    "    'product_id',\n",
    "    'category_id',\n",
    "    'cat',\n",
    "    'cat_2',\n",
    "    'cat_3',\n",
    "    'cat_4',\n",
    "    'brand',\n",
    "    'price',\n",
    "    'user_id'\n",
    "]\n",
    "\n",
    "res = res[required_cols]\n",
    "res.head()"
   ]
  },
  {
   "cell_type": "code",
   "execution_count": null,
   "metadata": {},
   "outputs": [],
   "source": [
    "res.isnull().sum()"
   ]
  },
  {
   "cell_type": "code",
   "execution_count": 14,
   "metadata": {
    "scrolled": false
   },
   "outputs": [
    {
     "data": {
      "text/html": [
       "<div>\n",
       "<style scoped>\n",
       "    .dataframe tbody tr th:only-of-type {\n",
       "        vertical-align: middle;\n",
       "    }\n",
       "\n",
       "    .dataframe tbody tr th {\n",
       "        vertical-align: top;\n",
       "    }\n",
       "\n",
       "    .dataframe thead th {\n",
       "        text-align: right;\n",
       "    }\n",
       "</style>\n",
       "<table border=\"1\" class=\"dataframe\">\n",
       "  <thead>\n",
       "    <tr style=\"text-align: right;\">\n",
       "      <th></th>\n",
       "      <th>event_time</th>\n",
       "      <th>event_type</th>\n",
       "      <th>product_id</th>\n",
       "      <th>category_id</th>\n",
       "      <th>cat</th>\n",
       "      <th>cat_2</th>\n",
       "      <th>cat_3</th>\n",
       "      <th>cat_4</th>\n",
       "      <th>brand</th>\n",
       "      <th>price</th>\n",
       "      <th>user_id</th>\n",
       "    </tr>\n",
       "  </thead>\n",
       "  <tbody>\n",
       "    <tr>\n",
       "      <th>0</th>\n",
       "      <td>2020-01-01 00:00:00 UTC</td>\n",
       "      <td>view</td>\n",
       "      <td>1005073</td>\n",
       "      <td>2232732093077520756</td>\n",
       "      <td>construction</td>\n",
       "      <td>tools</td>\n",
       "      <td>light</td>\n",
       "      <td>unknown</td>\n",
       "      <td>samsung</td>\n",
       "      <td>1130.02</td>\n",
       "      <td>519698804</td>\n",
       "    </tr>\n",
       "    <tr>\n",
       "      <th>1</th>\n",
       "      <td>2020-01-01 00:00:01 UTC</td>\n",
       "      <td>view</td>\n",
       "      <td>1005192</td>\n",
       "      <td>2232732093077520756</td>\n",
       "      <td>construction</td>\n",
       "      <td>tools</td>\n",
       "      <td>light</td>\n",
       "      <td>unknown</td>\n",
       "      <td>meizu</td>\n",
       "      <td>205.67</td>\n",
       "      <td>527767423</td>\n",
       "    </tr>\n",
       "    <tr>\n",
       "      <th>2</th>\n",
       "      <td>2020-01-01 00:00:01 UTC</td>\n",
       "      <td>view</td>\n",
       "      <td>100063693</td>\n",
       "      <td>2053013552427434207</td>\n",
       "      <td>apparel</td>\n",
       "      <td>shirt</td>\n",
       "      <td>unknown</td>\n",
       "      <td>unknown</td>\n",
       "      <td>turtle</td>\n",
       "      <td>136.43</td>\n",
       "      <td>519046195</td>\n",
       "    </tr>\n",
       "    <tr>\n",
       "      <th>3</th>\n",
       "      <td>2020-01-01 00:00:01 UTC</td>\n",
       "      <td>view</td>\n",
       "      <td>5100816</td>\n",
       "      <td>2232732103831716449</td>\n",
       "      <td>apparel</td>\n",
       "      <td>shoes</td>\n",
       "      <td>unknown</td>\n",
       "      <td>unknown</td>\n",
       "      <td>xiaomi</td>\n",
       "      <td>29.95</td>\n",
       "      <td>518269232</td>\n",
       "    </tr>\n",
       "    <tr>\n",
       "      <th>4</th>\n",
       "      <td>2020-01-01 00:00:02 UTC</td>\n",
       "      <td>view</td>\n",
       "      <td>100014325</td>\n",
       "      <td>2232732103294845523</td>\n",
       "      <td>apparel</td>\n",
       "      <td>shoes</td>\n",
       "      <td>step_ins</td>\n",
       "      <td>unknown</td>\n",
       "      <td>intel</td>\n",
       "      <td>167.20</td>\n",
       "      <td>587748686</td>\n",
       "    </tr>\n",
       "  </tbody>\n",
       "</table>\n",
       "</div>"
      ],
      "text/plain": [
       "                event_time event_type  product_id          category_id  \\\n",
       "0  2020-01-01 00:00:00 UTC       view     1005073  2232732093077520756   \n",
       "1  2020-01-01 00:00:01 UTC       view     1005192  2232732093077520756   \n",
       "2  2020-01-01 00:00:01 UTC       view   100063693  2053013552427434207   \n",
       "3  2020-01-01 00:00:01 UTC       view     5100816  2232732103831716449   \n",
       "4  2020-01-01 00:00:02 UTC       view   100014325  2232732103294845523   \n",
       "\n",
       "            cat  cat_2     cat_3    cat_4    brand    price    user_id  \n",
       "0  construction  tools     light  unknown  samsung  1130.02  519698804  \n",
       "1  construction  tools     light  unknown    meizu   205.67  527767423  \n",
       "2       apparel  shirt   unknown  unknown   turtle   136.43  519046195  \n",
       "3       apparel  shoes   unknown  unknown   xiaomi    29.95  518269232  \n",
       "4       apparel  shoes  step_ins  unknown    intel   167.20  587748686  "
      ]
     },
     "execution_count": 14,
     "metadata": {},
     "output_type": "execute_result"
    }
   ],
   "source": [
    "res['cat'] = res['cat'].fillna('unknown')\n",
    "res['cat_2'] = res['cat_2'].fillna('unknown')\n",
    "res['cat_3'] = res['cat_3'].fillna('unknown')\n",
    "res['cat_4'] = res['cat_4'].fillna('unknown')\n",
    "res.head()"
   ]
  },
  {
   "cell_type": "markdown",
   "metadata": {},
   "source": [
    "#### ML specific preprocessing"
   ]
  },
  {
   "cell_type": "markdown",
   "metadata": {},
   "source": [
    "Data that is used for training model must be numeric. However, the dataset contains a few columns `string` or `datetime` types. First, let's convert `datetime` in the `event_time` into a `timetuple`"
   ]
  },
  {
   "cell_type": "code",
   "execution_count": 6,
   "metadata": {},
   "outputs": [
    {
     "ename": "NameError",
     "evalue": "name 'res' is not defined",
     "output_type": "error",
     "traceback": [
      "\u001b[0;31m---------------------------------------------------------------------------\u001b[0m",
      "\u001b[0;31mNameError\u001b[0m                                 Traceback (most recent call last)",
      "Cell \u001b[0;32mIn[6], line 5\u001b[0m\n\u001b[1;32m      2\u001b[0m \u001b[38;5;28;01mimport\u001b[39;00m \u001b[38;5;21;01mtime\u001b[39;00m\n\u001b[1;32m      3\u001b[0m \u001b[38;5;28;01mimport\u001b[39;00m \u001b[38;5;21;01mdatetime\u001b[39;00m\n\u001b[0;32m----> 5\u001b[0m res\u001b[38;5;241m.\u001b[39mevent_time \u001b[38;5;241m=\u001b[39m res\u001b[38;5;241m.\u001b[39mevent_time\u001b[38;5;241m.\u001b[39mapply(\u001b[38;5;28;01mlambda\u001b[39;00m x: time\u001b[38;5;241m.\u001b[39mmktime(datetime\u001b[38;5;241m.\u001b[39mdatetime\u001b[38;5;241m.\u001b[39mstrptime(x,\n\u001b[1;32m      6\u001b[0m                                              \u001b[38;5;124m\"\u001b[39m\u001b[38;5;124m%\u001b[39m\u001b[38;5;124mY-\u001b[39m\u001b[38;5;124m%\u001b[39m\u001b[38;5;124mm-\u001b[39m\u001b[38;5;132;01m%d\u001b[39;00m\u001b[38;5;124m \u001b[39m\u001b[38;5;124m%\u001b[39m\u001b[38;5;124mH:\u001b[39m\u001b[38;5;124m%\u001b[39m\u001b[38;5;124mM:\u001b[39m\u001b[38;5;124m%\u001b[39m\u001b[38;5;124mS \u001b[39m\u001b[38;5;124m%\u001b[39m\u001b[38;5;124mZ\u001b[39m\u001b[38;5;124m\"\u001b[39m)\u001b[38;5;241m.\u001b[39mtimetuple()))\n",
      "\u001b[0;31mNameError\u001b[0m: name 'res' is not defined"
     ]
    }
   ],
   "source": [
    "# import required packages\n",
    "import time\n",
    "import datetime\n",
    "\n",
    "res.event_time = res.event_time.apply(lambda x: time.mktime(datetime.datetime.strptime(x,\n",
    "                                             \"%Y-%m-%d %H:%M:%S %Z\").timetuple()))"
   ]
  },
  {
   "cell_type": "markdown",
   "metadata": {},
   "source": [
    "The other columns can be converted to numeric values by using label encoding. I'll use the `LabelEncoder` class that Scikit-learn provides for this purpose."
   ]
  },
  {
   "cell_type": "code",
   "execution_count": 16,
   "metadata": {},
   "outputs": [],
   "source": [
    "from sklearn.preprocessing import LabelEncoder, StandardScaler\n",
    "\n",
    "# Initialize the LabelEncoder\n",
    "label_encoder = LabelEncoder()\n",
    "\n",
    "# Fit and transform the data\n",
    "categorical_columns = [\n",
    "    'event_type', \n",
    "    'cat', \n",
    "    'cat_2', \n",
    "    'cat_3', \n",
    "    'cat_4', \n",
    "    'brand'\n",
    "]\n",
    "\n",
    "for col in categorical_columns:\n",
    "    res[col] = label_encoder.fit_transform(res[col])\n"
   ]
  },
  {
   "cell_type": "code",
   "execution_count": 18,
   "metadata": {},
   "outputs": [],
   "source": [
    "# Normalize/Standardize numerical columns\n",
    "scaler = StandardScaler()\n",
    "res['price'] = scaler.fit_transform(res['price'].values.reshape(-1, 1))\n",
    "res['event_time'] = scaler.fit_transform(res['event_time'].values.reshape(-1, 1))"
   ]
  },
  {
   "cell_type": "code",
   "execution_count": null,
   "metadata": {},
   "outputs": [],
   "source": [
    "res.head()"
   ]
  },
  {
   "cell_type": "markdown",
   "metadata": {},
   "source": [
    "The dataframe is ready for using in model training. I'll save it to a new .csv file to use it later for training."
   ]
  },
  {
   "cell_type": "code",
   "execution_count": 19,
   "metadata": {},
   "outputs": [],
   "source": [
    "# saving in a file\n",
    "res.to_csv('data/processed_data_test.csv')"
   ]
  },
  {
   "cell_type": "markdown",
   "metadata": {},
   "source": [
    "I repeat the same oreration for Jan and save it in 'data/processed_data_test.csv'"
   ]
  },
  {
   "cell_type": "markdown",
   "metadata": {},
   "source": [
    "## Model training"
   ]
  },
  {
   "cell_type": "code",
   "execution_count": null,
   "metadata": {},
   "outputs": [],
   "source": [
    "# uncomment lines below if tensorflow isn't installed on your PC\n",
    "\n",
    "# import sys\n",
    "# !{sys.executable} -m pip install tensorflow\n"
   ]
  },
  {
   "cell_type": "markdown",
   "metadata": {},
   "source": [
    "### CNN"
   ]
  },
  {
   "cell_type": "code",
   "execution_count": 1,
   "metadata": {},
   "outputs": [],
   "source": [
    "import numpy as np\n",
    "import pandas as pd\n",
    "\n",
    "import tensorflow as tf\n",
    "from sklearn.model_selection import train_test_split\n",
    "from sklearn.preprocessing import LabelEncoder\n",
    "from tensorflow.keras.layers import Input, Embedding, Conv1D, MaxPooling1D, Flatten, Dense\n",
    "from tensorflow.keras.models import Model\n",
    "from tensorflow.keras.utils import to_categorical\n",
    "from sklearn.metrics import f1_score"
   ]
  },
  {
   "cell_type": "code",
   "execution_count": 2,
   "metadata": {},
   "outputs": [],
   "source": [
    "# Load the dataset\n",
    "train_data = pd.read_csv('data/processed_data_train.csv')"
   ]
  },
  {
   "cell_type": "code",
   "execution_count": 3,
   "metadata": {},
   "outputs": [],
   "source": [
    "# Normalize price\n",
    "train_data['price'] = (train_data['price'] - train_data['price'].mean()) / train_data['price'].std()"
   ]
  },
  {
   "cell_type": "code",
   "execution_count": 4,
   "metadata": {},
   "outputs": [],
   "source": [
    "# Sort data by 'event_time' \n",
    "train_data.sort_values(by='event_time', inplace=True)"
   ]
  },
  {
   "cell_type": "code",
   "execution_count": 6,
   "metadata": {},
   "outputs": [],
   "source": [
    "# Split the data into training and testing sets\n",
    "X = train_data[['product_id', 'category_id', 'cat', 'cat_2', 'cat_3', 'cat_4', 'brand', 'price']]\n",
    "y = train_data['event_type']"
   ]
  },
  {
   "cell_type": "code",
   "execution_count": 7,
   "metadata": {},
   "outputs": [],
   "source": [
    "X_train, X_test, y_train, y_test = train_test_split(X, y, test_size=0.2, random_state=12)"
   ]
  },
  {
   "cell_type": "code",
   "execution_count": 32,
   "metadata": {},
   "outputs": [],
   "source": [
    "# len(X)\n",
    "def sequence_generator(X, y, sequence_length, batch_size):\n",
    "    while True:\n",
    "        for i in range(0, len(X) - sequence_length, batch_size):\n",
    "            X_batch = [X[i+j:i+j+sequence_length].values for j in range(batch_size)]\n",
    "            y_batch = y[i+sequence_length:i+sequence_length+batch_size]\n",
    "\n",
    "            # Pad sequences to ensure they have the same length\n",
    "            max_length = max(len(seq) for seq in X_batch)\n",
    "            X_batch = [np.pad(seq, (0, max_length - len(seq)), 'constant') for seq in X_batch]\n",
    "\n",
    "            yield np.array(X_batch), np.array(y_batch)"
   ]
  },
  {
   "cell_type": "code",
   "execution_count": 33,
   "metadata": {},
   "outputs": [],
   "source": [
    "# Create sequences from the data\n",
    "sequence_length = 1000 \n",
    "batch_size = 256\n",
    "train_data_generator = sequence_generator(X_train, y_train, sequence_length, batch_size)\n",
    "test_data_generator = sequence_generator(X_test, y_test, sequence_length, batch_size)"
   ]
  },
  {
   "cell_type": "code",
   "execution_count": 34,
   "metadata": {},
   "outputs": [],
   "source": [
    "# Define the CNN model\n",
    "input_layer = Input(shape=(sequence_length, X_train.shape[1]))\n",
    "x = Conv1D(64, kernel_size=3, activation='relu')(input_layer)\n",
    "x = MaxPooling1D(pool_size=2)(x)\n",
    "x = Flatten()(x)\n",
    "x = Dense(128, activation='relu')(x)\n",
    "output_layer = Dense(1, activation='sigmoid')(x)  "
   ]
  },
  {
   "cell_type": "code",
   "execution_count": 35,
   "metadata": {},
   "outputs": [],
   "source": [
    "from tensorflow.keras.optimizers.legacy import Adam\n",
    "\n",
    "# Initialize the optimizer with gradient clipping\n",
    "optimizer = Adam(learning_rate=0.001, clipvalue=1.0)\n",
    "model = Model(inputs=input_layer, outputs=output_layer)\n",
    "\n",
    "# Compile the model\n",
    "model.compile(optimizer=optimizer, loss='binary_crossentropy', metrics=['accuracy'])\n"
   ]
  },
  {
   "cell_type": "code",
   "execution_count": null,
   "metadata": {},
   "outputs": [
    {
     "name": "stdout",
     "output_type": "stream",
     "text": [
      "Epoch 1/10\n",
      " 71205/210943 [=========>....................] - ETA: 3:58:20 - loss: -453965510133286960380516499456.0000 - accuracy: 0.0136"
     ]
    }
   ],
   "source": [
    "# Train the model using the generator\n",
    "model.fit(train_data_generator, \n",
    "          epochs=10, \n",
    "          steps_per_epoch=len(X_train) // batch_size,\n",
    "          validation_data=test_data_generator,          # Validation data generator\n",
    "          validation_steps=len(X_test) // batch_size,   # Number of validation steps\n",
    "          verbose=1              # Verbosity mode (0: silent, 1: progress bar, 2: one line per epoch\n",
    "         )"
   ]
  },
  {
   "cell_type": "markdown",
   "metadata": {},
   "source": [
    "#### Second attempt - multiple improvements"
   ]
  },
  {
   "cell_type": "code",
   "execution_count": null,
   "metadata": {},
   "outputs": [],
   "source": [
    "# Create sequences from the data\n",
    "sequence_length = 100 \n",
    "batch_size = 64\n",
    "train_data_generator = sequence_generator(X_train, y_train, sequence_length, batch_size)\n",
    "test_data_generator = sequence_generator(X_test, y_test, sequence_length, batch_size)"
   ]
  },
  {
   "cell_type": "code",
   "execution_count": null,
   "metadata": {},
   "outputs": [],
   "source": [
    "# Define the CNN model\n",
    "input_layer = Input(shape=(sequence_length, X_train.shape[1]))\n",
    "x = Conv1D(128, kernel_size=3, activation='relu')(input_layer)\n",
    "x = MaxPooling1D(pool_size=3)(x)\n",
    "x = Flatten()(x)\n",
    "x = Dense(128, activation='relu')(x)\n",
    "x = Dropout(0.5)(x) \n",
    "output_layer = Dense(3, activation='sigmoid')(x)  "
   ]
  },
  {
   "cell_type": "code",
   "execution_count": null,
   "metadata": {},
   "outputs": [],
   "source": [
    "from tensorflow.keras.optimizers.schedules import ExponentialDecay\n",
    "\n",
    "# Define a learning rate schedule\n",
    "initial_learning_rate = 0.001\n",
    "lr_schedule = ExponentialDecay(initial_learning_rate, decay_steps=1000, decay_rate=0.9)\n",
    "\n",
    "# Use the learning rate schedule in the optimizer\n",
    "optimizer = Adam(learning_rate=lr_schedule)"
   ]
  },
  {
   "cell_type": "code",
   "execution_count": null,
   "metadata": {},
   "outputs": [],
   "source": [
    "model = Model(inputs=input_layer, outputs=output_layer)\n",
    "\n",
    "# Compile the model\n",
    "model.compile(optimizer='adam', loss='binary_crossentropy', metrics=['accuracy'])"
   ]
  },
  {
   "cell_type": "code",
   "execution_count": null,
   "metadata": {},
   "outputs": [],
   "source": [
    "from tensorflow.keras.callbacks import EarlyStopping\n",
    "\n",
    "# Define early stopping callback\n",
    "early_stopping = EarlyStopping(monitor='val_loss', patience=5, restore_best_weights=True)\n",
    "\n",
    "# Train the model using the generator\n",
    "model.fit(train_data_generator, epochs=100, steps_per_epoch=len(X_train)//batch_size, \n",
    "         validation_data=test_data_generator, validation_steps=len(X_test)//batch_size,\n",
    "         callbacks=[early_stopping])"
   ]
  },
  {
   "cell_type": "markdown",
   "metadata": {},
   "source": [
    "### RNN"
   ]
  },
  {
   "cell_type": "code",
   "execution_count": null,
   "metadata": {},
   "outputs": [],
   "source": [
    "import numpy as np\n",
    "import pandas as pd\n",
    "\n"
   ]
  },
  {
   "cell_type": "code",
   "execution_count": null,
   "metadata": {},
   "outputs": [],
   "source": [
    "# load the preprocessed dataset \n",
    "data = pd.read_csv('processed_data.csv')"
   ]
  },
  {
   "cell_type": "code",
   "execution_count": null,
   "metadata": {},
   "outputs": [],
   "source": [
    "# Define your RNN architecture\n",
    "rnn_model = Sequential([\n",
    "    LSTM(units=64, return_sequences=True, input_shape=(N, X.shape[0])),\n",
    "    Dropout(0.2),\n",
    "    LSTM(units=64),\n",
    "    Dropout(0.2),\n",
    "    Dense(9, activation='softmax')\n",
    "])"
   ]
  },
  {
   "cell_type": "code",
   "execution_count": null,
   "metadata": {},
   "outputs": [],
   "source": [
    "# Compile the model with F1 score metric\n",
    "rnn_model.compile(loss='categorical_crossentropy', optimizer='adam', metrics=['accuracy', f1_score])"
   ]
  },
  {
   "cell_type": "markdown",
   "metadata": {},
   "source": [
    "#### Second attempt - multiple improvements"
   ]
  },
  {
   "cell_type": "markdown",
   "metadata": {},
   "source": [
    "## Model evaluation"
   ]
  },
  {
   "cell_type": "markdown",
   "metadata": {},
   "source": [
    "### Baseline comparison"
   ]
  },
  {
   "cell_type": "code",
   "execution_count": 8,
   "metadata": {},
   "outputs": [],
   "source": [
    "import pandas as pd\n",
    "\n",
    "# import packages required for decision tree\n",
    "from sklearn.model_selection import train_test_split\n",
    "from sklearn.tree import DecisionTreeClassifier\n",
    "from sklearn.metrics import f1_score, confusion_matrix\n",
    "import seaborn as sns\n",
    "import matplotlib.pyplot as plt"
   ]
  },
  {
   "cell_type": "code",
   "execution_count": 6,
   "metadata": {},
   "outputs": [],
   "source": [
    "# load the preprocessed datasets \n",
    "train_data = pd.read_csv('data/processed_data_train.csv')\n",
    "test_data = pd.read_csv('data/processed_data_test.csv')"
   ]
  },
  {
   "cell_type": "code",
   "execution_count": 9,
   "metadata": {},
   "outputs": [],
   "source": [
    "# separate features (X) and target (y)\n",
    "Train_X = train_data.drop('event_type', axis=1)\n",
    "Train_y = train_data['event_type']\n",
    "\n",
    "Test_X = test_data.drop('event_type', axis=1)\n",
    "Test_y = test_data['event_type']\n",
    "\n",
    "# split the data into training and testing sets 80/20\n",
    "Train_X_train, Train_X_test, Train_y_train, Train_y_test = train_test_split(Train_X,\n",
    "                                                                            Train_y,\n",
    "                                                                            test_size=0.2,\n",
    "                                                                            random_state=12)\n",
    "\n",
    "Test_X_train, Test_X_test, Test_y_train, Test_y_test = train_test_split(Test_X,\n",
    "                                                                            Test_y,\n",
    "                                                                            test_size=0.2,\n",
    "                                                                            random_state=12)"
   ]
  },
  {
   "cell_type": "code",
   "execution_count": 10,
   "metadata": {},
   "outputs": [
    {
     "data": {
      "text/html": [
       "<style>#sk-container-id-1 {color: black;background-color: white;}#sk-container-id-1 pre{padding: 0;}#sk-container-id-1 div.sk-toggleable {background-color: white;}#sk-container-id-1 label.sk-toggleable__label {cursor: pointer;display: block;width: 100%;margin-bottom: 0;padding: 0.3em;box-sizing: border-box;text-align: center;}#sk-container-id-1 label.sk-toggleable__label-arrow:before {content: \"▸\";float: left;margin-right: 0.25em;color: #696969;}#sk-container-id-1 label.sk-toggleable__label-arrow:hover:before {color: black;}#sk-container-id-1 div.sk-estimator:hover label.sk-toggleable__label-arrow:before {color: black;}#sk-container-id-1 div.sk-toggleable__content {max-height: 0;max-width: 0;overflow: hidden;text-align: left;background-color: #f0f8ff;}#sk-container-id-1 div.sk-toggleable__content pre {margin: 0.2em;color: black;border-radius: 0.25em;background-color: #f0f8ff;}#sk-container-id-1 input.sk-toggleable__control:checked~div.sk-toggleable__content {max-height: 200px;max-width: 100%;overflow: auto;}#sk-container-id-1 input.sk-toggleable__control:checked~label.sk-toggleable__label-arrow:before {content: \"▾\";}#sk-container-id-1 div.sk-estimator input.sk-toggleable__control:checked~label.sk-toggleable__label {background-color: #d4ebff;}#sk-container-id-1 div.sk-label input.sk-toggleable__control:checked~label.sk-toggleable__label {background-color: #d4ebff;}#sk-container-id-1 input.sk-hidden--visually {border: 0;clip: rect(1px 1px 1px 1px);clip: rect(1px, 1px, 1px, 1px);height: 1px;margin: -1px;overflow: hidden;padding: 0;position: absolute;width: 1px;}#sk-container-id-1 div.sk-estimator {font-family: monospace;background-color: #f0f8ff;border: 1px dotted black;border-radius: 0.25em;box-sizing: border-box;margin-bottom: 0.5em;}#sk-container-id-1 div.sk-estimator:hover {background-color: #d4ebff;}#sk-container-id-1 div.sk-parallel-item::after {content: \"\";width: 100%;border-bottom: 1px solid gray;flex-grow: 1;}#sk-container-id-1 div.sk-label:hover label.sk-toggleable__label {background-color: #d4ebff;}#sk-container-id-1 div.sk-serial::before {content: \"\";position: absolute;border-left: 1px solid gray;box-sizing: border-box;top: 0;bottom: 0;left: 50%;z-index: 0;}#sk-container-id-1 div.sk-serial {display: flex;flex-direction: column;align-items: center;background-color: white;padding-right: 0.2em;padding-left: 0.2em;position: relative;}#sk-container-id-1 div.sk-item {position: relative;z-index: 1;}#sk-container-id-1 div.sk-parallel {display: flex;align-items: stretch;justify-content: center;background-color: white;position: relative;}#sk-container-id-1 div.sk-item::before, #sk-container-id-1 div.sk-parallel-item::before {content: \"\";position: absolute;border-left: 1px solid gray;box-sizing: border-box;top: 0;bottom: 0;left: 50%;z-index: -1;}#sk-container-id-1 div.sk-parallel-item {display: flex;flex-direction: column;z-index: 1;position: relative;background-color: white;}#sk-container-id-1 div.sk-parallel-item:first-child::after {align-self: flex-end;width: 50%;}#sk-container-id-1 div.sk-parallel-item:last-child::after {align-self: flex-start;width: 50%;}#sk-container-id-1 div.sk-parallel-item:only-child::after {width: 0;}#sk-container-id-1 div.sk-dashed-wrapped {border: 1px dashed gray;margin: 0 0.4em 0.5em 0.4em;box-sizing: border-box;padding-bottom: 0.4em;background-color: white;}#sk-container-id-1 div.sk-label label {font-family: monospace;font-weight: bold;display: inline-block;line-height: 1.2em;}#sk-container-id-1 div.sk-label-container {text-align: center;}#sk-container-id-1 div.sk-container {/* jupyter's `normalize.less` sets `[hidden] { display: none; }` but bootstrap.min.css set `[hidden] { display: none !important; }` so we also need the `!important` here to be able to override the default hidden behavior on the sphinx rendered scikit-learn.org. See: https://github.com/scikit-learn/scikit-learn/issues/21755 */display: inline-block !important;position: relative;}#sk-container-id-1 div.sk-text-repr-fallback {display: none;}</style><div id=\"sk-container-id-1\" class=\"sk-top-container\"><div class=\"sk-text-repr-fallback\"><pre>DecisionTreeClassifier()</pre><b>In a Jupyter environment, please rerun this cell to show the HTML representation or trust the notebook. <br />On GitHub, the HTML representation is unable to render, please try loading this page with nbviewer.org.</b></div><div class=\"sk-container\" hidden><div class=\"sk-item\"><div class=\"sk-estimator sk-toggleable\"><input class=\"sk-toggleable__control sk-hidden--visually\" id=\"sk-estimator-id-1\" type=\"checkbox\" checked><label for=\"sk-estimator-id-1\" class=\"sk-toggleable__label sk-toggleable__label-arrow\">DecisionTreeClassifier</label><div class=\"sk-toggleable__content\"><pre>DecisionTreeClassifier()</pre></div></div></div></div></div>"
      ],
      "text/plain": [
       "DecisionTreeClassifier()"
      ]
     },
     "execution_count": 10,
     "metadata": {},
     "output_type": "execute_result"
    }
   ],
   "source": [
    "# create a decision tree instance and train it on the training data\n",
    "train_des_tree = DecisionTreeClassifier()\n",
    "train_des_tree.fit(Train_X_train, Train_y_train)\n",
    "\n",
    "test_des_tree = DecisionTreeClassifier()\n",
    "test_des_tree.fit(Test_X_train, Test_y_train)"
   ]
  },
  {
   "cell_type": "code",
   "execution_count": 12,
   "metadata": {},
   "outputs": [
    {
     "name": "stdout",
     "output_type": "stream",
     "text": [
      "Train dataset F1 Score: 0.90\n"
     ]
    }
   ],
   "source": [
    "# make predictions on the test data\n",
    "train_y_pred = train_des_tree.predict(Train_X_test)\n",
    "\n",
    "# calculate F1 score \n",
    "train_f1 = f1_score(Train_y_test, train_y_pred, average='weighted')\n",
    "print(f\"Train dataset F1 Score: {train_f1:.2f}\")"
   ]
  },
  {
   "cell_type": "code",
   "execution_count": 13,
   "metadata": {},
   "outputs": [
    {
     "data": {
      "image/png": "[encoded data removed]",
      "text/plain": [
       "<Figure size 800x600 with 2 Axes>"
      ]
     },
     "metadata": {},
     "output_type": "display_data"
    }
   ],
   "source": [
    "# create a confusion matrix\n",
    "cm = confusion_matrix(Train_y_test, train_y_pred)\n",
    "\n",
    "# plot the confusion matrix\n",
    "plt.figure(figsize=(8, 6))\n",
    "sns.heatmap(cm, annot=True, fmt=\"d\", cmap=\"Blues\",\n",
    "            xticklabels=train_des_tree.classes_,\n",
    "            yticklabels=train_des_tree.classes_)\n",
    "plt.xlabel('Predicted Labels')\n",
    "plt.ylabel('True Labels')\n",
    "plt.title('Confusion Matrix')\n",
    "plt.show()"
   ]
  },
  {
   "cell_type": "code",
   "execution_count": 14,
   "metadata": {},
   "outputs": [
    {
     "name": "stdout",
     "output_type": "stream",
     "text": [
      "Test dataset F1 Score: 0.90\n"
     ]
    }
   ],
   "source": [
    "# make predictions on the test data\n",
    "test_y_pred = test_des_tree.predict(Test_X_test)\n",
    "\n",
    "# calculate F1 score \n",
    "test_f1 = f1_score(Test_y_test, test_y_pred, average='weighted')\n",
    "print(f\"Test dataset F1 Score: {test_f1:.2f}\")"
   ]
  },
  {
   "cell_type": "code",
   "execution_count": 15,
   "metadata": {},
   "outputs": [
    {
     "data": {
      "image/png": "[encoded data removed]",
      "text/plain": [
       "<Figure size 800x600 with 2 Axes>"
      ]
     },
     "metadata": {},
     "output_type": "display_data"
    }
   ],
   "source": [
    "# create a confusion matrix\n",
    "cm = confusion_matrix(Test_y_test, test_y_pred)\n",
    "\n",
    "# plot the confusion matrix\n",
    "plt.figure(figsize=(8, 6))\n",
    "sns.heatmap(cm, annot=True, fmt=\"d\", cmap=\"Blues\",\n",
    "            xticklabels=test_des_tree.classes_,\n",
    "            yticklabels=test_des_tree.classes_)\n",
    "plt.xlabel('Predicted Labels')\n",
    "plt.ylabel('True Labels')\n",
    "plt.title('Confusion Matrix')\n",
    "plt.show()"
   ]
  },
  {
   "cell_type": "markdown",
   "metadata": {},
   "source": [
    "TODO: add here the comparison between Decision Tree F1 (0.9) and DLM () and the conclusion"
   ]
  },
  {
   "cell_type": "markdown",
   "metadata": {},
   "source": [
    "### Model Robustness\n"
   ]
  },
  {
   "cell_type": "code",
   "execution_count": null,
   "metadata": {},
   "outputs": [],
   "source": []
  },
  {
   "cell_type": "code",
   "execution_count": null,
   "metadata": {},
   "outputs": [],
   "source": [
    "# TODO: import and transform a dataset for verifying the model\n"
   ]
  },
  {
   "cell_type": "markdown",
   "metadata": {},
   "source": [
    "## Conclusion"
   ]
  },
  {
   "cell_type": "code",
   "execution_count": null,
   "metadata": {},
   "outputs": [],
   "source": []
  }
 ],
 "metadata": {
  "kernelspec": {
   "display_name": "Python 3 (ipykernel)",
   "language": "python",
   "name": "python3"
  },
  "language_info": {
   "codemirror_mode": {
    "name": "ipython",
    "version": 3
   },
   "file_extension": ".py",
   "mimetype": "text/x-python",
   "name": "python",
   "nbconvert_exporter": "python",
   "pygments_lexer": "ipython3",
   "version": "3.11.4"
  }
 },
 "nbformat": 4,
 "nbformat_minor": 2
}
